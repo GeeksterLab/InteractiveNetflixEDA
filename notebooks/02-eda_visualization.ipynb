{
 "cells": [
  {
   "cell_type": "markdown",
   "id": "9a277829-5ab9-425c-a1e5-f654a9d5a78c",
   "metadata": {},
   "source": [
    "# 📓 **Exploratory Data Analysis (EDA) & Visualization**\n",
    "\n",
    "✅ Objectives:\n",
    "\n",
    "Visualize your viewing trends over time.  \n",
    "Analyze genre preferences.  \n",
    "Understand duration patterns and rating trends.  "
   ]
  },
  {
   "cell_type": "markdown",
   "id": "de402f1a-430b-46ed-9d2d-f50609885903",
   "metadata": {},
   "source": [
    "## 📌**Initial Setup**"
   ]
  },
  {
   "cell_type": "code",
   "execution_count": null,
   "id": "d6a40505-284c-46e1-aa56-0c30136e29e8",
   "metadata": {},
   "outputs": [],
   "source": [
    "import pandas as pd\n",
    "import matplotlib.pyplot as plt\n",
    "import seaborn as sns\n",
    "\n",
    "# Set style for visuals\n",
    "sns.set_theme(style=\"darkgrid\")\n",
    "\n",
    "# Load enriched dataset\n",
    "df = pd.read_csv('../data/processed/enriched_netflix_history.csv')\n",
    "\n",
    "# Inspect data\n",
    "df.head()\n"
   ]
  },
  {
   "cell_type": "markdown",
   "id": "64fc7678-b0e9-4eef-9a2b-aecd17c1cd2d",
   "metadata": {},
   "source": [
    "## 📅**Analysis of Viewing Trends Over Time**"
   ]
  },
  {
   "cell_type": "markdown",
   "id": "3681aaf1-6419-4e70-ba93-3f5fc3262489",
   "metadata": {},
   "source": [
    "### 📊*Monthly Viewing Frequency*"
   ]
  },
  {
   "cell_type": "code",
   "execution_count": null,
   "id": "d35ca071-6556-4862-96fd-ee5d8cd0a249",
   "metadata": {},
   "outputs": [],
   "source": [
    "# Convert dates to datetime\n",
    "df = pd.read_csv('../data/processed/enriched_netflix_history.csv')\n",
    "df['Date Watched'] = pd.to_datetime(df['Date Watched'])\n",
    "\n",
    "# Count views by month\n",
    "monthly_views = df.resample('M', on='Date Watched').size()\n",
    "\n",
    "# Plot\n",
    "plt.figure(figsize=(12,6))\n",
    "monthly_views.plot(kind='bar', color='skyblue')\n",
    "\n",
    "plt.title('Monthly Netflix Viewing Frequency')\n",
    "plt.xlabel('Month')\n",
    "plt.ylabel('Number of Views')\n",
    "plt.tight_layout()\n",
    "plt.show()\n"
   ]
  },
  {
   "cell_type": "markdown",
   "id": "416a9fda-5cfe-436e-be52-b2ccc8cbfc6c",
   "metadata": {},
   "source": [
    "### *Trends by Genre*"
   ]
  },
  {
   "cell_type": "code",
   "execution_count": null,
   "id": "4793706b-ea0a-4898-b43e-dd2ef8fdd70a",
   "metadata": {},
   "outputs": [],
   "source": [
    "# Split genres and count occurrences\n",
    "genre_counts = df['listed_in'].str.split(', ', expand=True).stack().value_counts()\n",
    "\n",
    "# Plot top 10 genres\n",
    "genre_counts.head(10).plot(kind='barh', figsize=(10,6))\n",
    "plt.title('Top 10 Genres Watched')\n",
    "plt.xlabel('Number of Views')\n",
    "plt.gca().invert_yaxis()\n",
    "plt.tight_layout()\n",
    "plt.show()\n"
   ]
  },
  {
   "cell_type": "markdown",
   "id": "3b061716-7368-4054-a104-1017b6a8a9e8",
   "metadata": {},
   "source": [
    "## 📝**Analysis**"
   ]
  },
  {
   "cell_type": "markdown",
   "id": "c356b4d9-47b4-4182-8240-56aa86e48fd8",
   "metadata": {},
   "source": [
    "### ⏱️*Durations Analysis*"
   ]
  },
  {
   "cell_type": "code",
   "execution_count": null,
   "id": "182e9817-1e7c-4a28-a956-00214d468cb3",
   "metadata": {},
   "outputs": [],
   "source": [
    "# Clean duration (for Movies only)\n",
    "movies = df[df['type'] == 'Movie'].copy()\n",
    "\n",
    "# Convert durations to integers (minutes)\n",
    "movies['duration_minutes'] = movies['duration'].str.replace(' min','').astype(float)\n",
    "\n",
    "# Visualize distribution\n",
    "plt.figure(figsize=(10,5))\n",
    "sns.histplot(movies['duration_minutes'], bins=20, kde=True)\n",
    "plt.title('Distribution of Movie Durations Watched')\n",
    "plt.xlabel('Duration (minutes)')\n",
    "plt.ylabel('Count')\n",
    "plt.show()\n"
   ]
  },
  {
   "cell_type": "markdown",
   "id": "69ca1cdc-87ba-4a07-b153-f9cb86aa020f",
   "metadata": {},
   "source": [
    "### ★★☆☆☆*Ratings Analysis*"
   ]
  },
  {
   "cell_type": "code",
   "execution_count": null,
   "id": "ea02f7d6-351e-49d1-953c-80947e08068f",
   "metadata": {},
   "outputs": [],
   "source": [
    "# Rating distribution\n",
    "rating_counts = df['rating'].value_counts()\n",
    "\n",
    "# Plot ratings distribution\n",
    "plt.figure(figsize=(10,6))\n",
    "sns.barplot(x=rating_counts.index, y=rating_counts.values)\n",
    "plt.xticks(rotation=45)\n",
    "plt.title('Content Ratings Distribution')\n",
    "plt.xlabel('Rating')\n",
    "plt.ylabel('Count')\n",
    "plt.show()\n"
   ]
  },
  {
   "cell_type": "markdown",
   "id": "fb0a3903-ee9e-40b1-896c-04b9a4ccad57",
   "metadata": {},
   "source": [
    "## 📈 **Time-based Watching Patterns**"
   ]
  },
  {
   "cell_type": "markdown",
   "id": "49f1e52e-a3b7-467f-8499-de7cec5930ac",
   "metadata": {},
   "source": [
    "### 📆**Days of the Week**"
   ]
  },
  {
   "cell_type": "code",
   "execution_count": null,
   "id": "cd83c92e-e29d-4fdd-a244-c14a03182ec3",
   "metadata": {},
   "outputs": [],
   "source": [
    "df['Day_of_Week'] = df['Date Watched'].dt.day_name()\n",
    "weekly_counts = df['Day_of_Week'] = df['Date Watched'].dt.day_name()\n",
    "\n",
    "weekly_counts = df['Day_of_Week'].value_counts().reindex(\n",
    "    ['Monday', 'Tuesday', 'Wednesday', 'Thursday', 'Friday', 'Saturday', 'Sunday']\n",
    ")\n",
    "\n",
    "# Plot weekly viewing habits\n",
    "plt.figure(figsize=(10,6))\n",
    "sns.barplot(x=weekly_counts.index, y=weekly_counts.values)\n",
    "plt.title(\"Netflix Watching Frequency by Day of Week\")\n",
    "plt.xlabel(\"Day of Week\")\n",
    "plt.ylabel(\"Number of Views\")\n",
    "plt.show()\n"
   ]
  },
  {
   "cell_type": "markdown",
   "id": "a89b425f-bfef-4c21-ba50-0f918e97c6ae",
   "metadata": {},
   "source": [
    "### 📅**Yearly Trends**"
   ]
  },
  {
   "cell_type": "code",
   "execution_count": null,
   "id": "c65ef1d3-dbca-4d1e-9418-57178a1e7441",
   "metadata": {},
   "outputs": [],
   "source": [
    "# Extract year from date\n",
    "df['Year'] = df['Date Watched'].dt.year\n",
    "\n",
    "yearly_views = df['Year'].value_counts().sort_index()\n",
    "\n",
    "# Plot yearly viewing frequency\n",
    "yearly_views.plot(kind='line', marker='o', figsize=(8, 5))\n",
    "plt.title('Netflix Viewing Trends by Year')\n",
    "plt.ylabel('Number of Views')\n",
    "plt.xlabel('Year')\n"
   ]
  },
  {
   "cell_type": "markdown",
   "id": "71474012-4170-45dd-ba89-3753308ece4c",
   "metadata": {},
   "source": [
    "## 🔍**Correlation Analysis**"
   ]
  },
  {
   "cell_type": "code",
   "execution_count": null,
   "id": "06522b27-5901-487b-8978-3c9ba25cfe25",
   "metadata": {},
   "outputs": [],
   "source": [
    "# Correlation between content release year and views\n",
    "sns.scatterplot(data=df, x='release_year', y='Year')\n",
    "plt.title('Relation between Content Release Year and Watching Year')\n",
    "plt.xlabel('Content Release Year')\n",
    "plt.ylabel('Year Watched')\n"
   ]
  },
  {
   "cell_type": "markdown",
   "id": "ca8dd039-4a1a-4499-9517-7ecc22fa658b",
   "metadata": {},
   "source": [
    "## 🎯**Insights & Summary**"
   ]
  },
  {
   "cell_type": "markdown",
   "id": "50e7af55-b49d-4896-80ea-953165f906fd",
   "metadata": {},
   "source": [
    "“The most popular genre was XXX, followed by XXX.”\n",
    "“Majority of content watched was rated TV-MA, showing preference for XXX content.”\n",
    "\"Significant spike in viewing activity during weekXXX and XXX months.\""
   ]
  }
 ],
 "metadata": {
  "kernelspec": {
   "display_name": "Python 3 (ipykernel)",
   "language": "python",
   "name": "python3"
  },
  "language_info": {
   "codemirror_mode": {
    "name": "ipython",
    "version": 3
   },
   "file_extension": ".py",
   "mimetype": "text/x-python",
   "name": "python",
   "nbconvert_exporter": "python",
   "pygments_lexer": "ipython3",
   "version": "3.8.16"
  },
  "widgets": {
   "application/vnd.jupyter.widget-state+json": {
    "state": {},
    "version_major": 2,
    "version_minor": 0
   }
  }
 },
 "nbformat": 4,
 "nbformat_minor": 5
}
