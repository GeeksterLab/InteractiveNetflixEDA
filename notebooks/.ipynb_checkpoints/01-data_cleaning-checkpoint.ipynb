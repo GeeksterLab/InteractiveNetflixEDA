{
 "cells": [
  {
   "cell_type": "markdown",
   "id": "f4216e0e-0209-4bc2-be28-589b3ff8af52",
   "metadata": {},
   "source": [
    "# 📓Data Cleaning & Enrichment"
   ]
  },
  {
   "cell_type": "markdown",
   "id": "09ef9865-a242-4a59-afe4-ee41c6a6d003",
   "metadata": {},
   "source": [
    "## ✅**Import Libraries**"
   ]
  },
  {
   "cell_type": "code",
   "execution_count": null,
   "id": "f3f47d60-02d0-431a-ad7b-41aec1df9ae1",
   "metadata": {},
   "outputs": [],
   "source": [
    "# Import libraries\n",
    "import pandas as pd\n",
    "from fuzzywuzzy import process\n"
   ]
  },
  {
   "cell_type": "markdown",
   "id": "8127f340-f097-43b8-8b6d-db63ccda37e2",
   "metadata": {},
   "source": [
    "## 📌**Load your datasets**"
   ]
  },
  {
   "cell_type": "code",
   "execution_count": null,
   "id": "86001a92-e4b4-4292-b590-540d8cc15d08",
   "metadata": {},
   "outputs": [],
   "source": [
    "# Load your Netflix viewing history\n",
    "my_history = pd.read_csv('../data/raw/NetflixViewingHistory.csv')\n",
    "\n",
    "# Load Netflix titles from Kaggle\n",
    "netflix_df = pd.read_csv('../data/raw/netflix_titles.csv')\n",
    "\n",
    "# Check data\n",
    "my_history.head(), netflix_df.head()\n"
   ]
  },
  {
   "cell_type": "markdown",
   "id": "7d934538-c82c-4b8d-97a6-61a9f827e5b6",
   "metadata": {},
   "source": [
    "## 🔎**Inspect**"
   ]
  },
  {
   "cell_type": "markdown",
   "id": "c87acb22-4480-4ee3-8b64-2164743ca894",
   "metadata": {},
   "source": [
    "### 📝*Inspect and simplify your titles*"
   ]
  },
  {
   "cell_type": "code",
   "execution_count": null,
   "id": "8a7b4815-3953-4a95-ba4c-e1e958a1bf6b",
   "metadata": {},
   "outputs": [],
   "source": [
    "# Simplify your personal viewing history titles\n",
    "my_history['Simplified Title'] = my_history['Title'].apply(lambda x: x.split(':')[0].strip().lower())\n",
    "\n",
    "# Check the simplified data\n",
    "my_history.head()\n"
   ]
  },
  {
   "cell_type": "markdown",
   "id": "2665d30c-9827-4a0e-855a-fe78be30131d",
   "metadata": {},
   "source": [
    "### ⚙️*Inspect Kaggle dataset*"
   ]
  },
  {
   "cell_type": "code",
   "execution_count": null,
   "id": "1f05214d-2746-49e7-bf90-a89d672770a6",
   "metadata": {},
   "outputs": [],
   "source": [
    "# Inspect Kaggle Netflix dataset columns\n",
    "netflix_df = netflix_df[['title', 'listed_in', 'duration', 'rating', 'type', 'release_year']]\n",
    "netflix_df['title'] = netflix_df['title'].str.lower()\n",
    "\n",
    "netflix_df.head()\n"
   ]
  },
  {
   "cell_type": "markdown",
   "id": "fd307c3a-497b-49b3-aae5-04ce74248703",
   "metadata": {},
   "source": [
    "## 🗂️**Match and merge**"
   ]
  },
  {
   "cell_type": "markdown",
   "id": "57c4b739-3a8c-4640-bc61-b51f0d1a4cf8",
   "metadata": {},
   "source": [
    "### 🔗*Match titles using Fuzzy Matching*"
   ]
  },
  {
   "cell_type": "code",
   "execution_count": null,
   "id": "6f3f63d3-be18-40c0-8e6f-0a673e2e0ca9",
   "metadata": {},
   "outputs": [],
   "source": [
    "# Function to match titles\n",
    "def match_titles(my_title, netflix_titles):\n",
    "    match, score = process.extractOne(my_title, netflix_titles)\n",
    "    return match if score > 85 else None\n",
    "\n",
    "# Create matched title column\n",
    "netflix_titles_list = netflix_df['title'].tolist()\n",
    "\n",
    "my_history['Matched_Title'] = my_history['Simplified Title'].apply(\n",
    "    lambda x: match_titles(x, netflix_titles=netflix_df['title'].tolist())\n",
    ")\n",
    "\n",
    "# Inspect matched titles\n",
    "my_history.head(10)\n"
   ]
  },
  {
   "cell_type": "markdown",
   "id": "adc6667a-9a2f-43d5-a016-40addb80df57",
   "metadata": {},
   "source": [
    "### 📊*Merge your enriched data*"
   ]
  },
  {
   "cell_type": "code",
   "execution_count": null,
   "id": "c7144b99-36c5-4933-ac55-e258642df52c",
   "metadata": {},
   "outputs": [],
   "source": [
    "# Merge datasets on matched titles\n",
    "merged_df = pd.merge(my_history, netflix_df, left_on='Matched_Title', right_on='title', how='left')\n",
    "\n",
    "# Keep only relevant columns\n",
    "merged_df = merged_df[['Date Watched', 'Title', 'Matched_Title', 'type', 'listed_in', 'duration', 'rating', 'release_year']]\n",
    "\n",
    "# Check merged data\n",
    "merged_df.head()\n"
   ]
  },
  {
   "cell_type": "markdown",
   "id": "ac1e6082-7584-454f-8d1b-4bbd6726c6d8",
   "metadata": {},
   "source": [
    "## 🚧**Handle Missing Data**"
   ]
  },
  {
   "cell_type": "code",
   "execution_count": null,
   "id": "7740d3b6-6117-463c-95dc-ac305bd6930f",
   "metadata": {},
   "outputs": [],
   "source": [
    "# Check how many missing matches you have\n",
    "missing_data = merged_df[merged_df['Matched_Title'].isna()]\n",
    "print(f\"Missing matched data: {len(missing_data)} records\")\n",
    "\n",
    "# Drop missing data if minimal\n",
    "merged_df_clean = merged_df.dropna(subset=['Matched_Title'])\n"
   ]
  },
  {
   "cell_type": "markdown",
   "id": "6c6c660a-8c3e-423d-a8f7-3b067ccd8d5f",
   "metadata": {},
   "source": [
    "## 📁**Export your Cleaned & Enriched Dataset**"
   ]
  },
  {
   "cell_type": "code",
   "execution_count": null,
   "id": "847a5da6-7b75-44f1-9c92-c3172b87efac",
   "metadata": {},
   "outputs": [],
   "source": [
    "# Save enriched dataset\n",
    "merged_df_clean = merged_df.dropna(subset=['Matched_Title'])\n",
    "\n",
    "merged_df.to_csv('../data/processed/enriched_netflix_history.csv', index=False)\n"
   ]
  }
 ],
 "metadata": {
  "kernelspec": {
   "display_name": "Python 3 (ipykernel)",
   "language": "python",
   "name": "python3"
  },
  "language_info": {
   "codemirror_mode": {
    "name": "ipython",
    "version": 3
   },
   "file_extension": ".py",
   "mimetype": "text/x-python",
   "name": "python",
   "nbconvert_exporter": "python",
   "pygments_lexer": "ipython3",
   "version": "3.8.16"
  },
  "widgets": {
   "application/vnd.jupyter.widget-state+json": {
    "state": {},
    "version_major": 2,
    "version_minor": 0
   }
  }
 },
 "nbformat": 4,
 "nbformat_minor": 5
}
